{
 "cells": [
  {
   "cell_type": "code",
   "execution_count": 1,
   "id": "35559d43-ef9e-47c4-bd94-03a511d117bb",
   "metadata": {},
   "outputs": [],
   "source": [
    "import pandas as pd\n",
    "import numpy as np\n",
    "import matplotlib.pyplot as plt\n",
    "plt.style.use('fivethirtyeight')\n",
    "%matplotlib inline"
   ]
  },
  {
   "cell_type": "markdown",
   "id": "b7f5de57-bba3-4f9c-878c-99cffb093ac6",
   "metadata": {},
   "source": [
    "## Notes"
   ]
  },
  {
   "cell_type": "markdown",
   "id": "4a88e430-0cee-442b-a473-4a147cf73467",
   "metadata": {},
   "source": [
    "### General Equations\n",
    "$$ \\textnormal{PDM Flow Rate [gpm]} = (\\textnormal{PDM reading in counts}) *\\left(\\frac{60}{197}\\right) $$\n",
    "$$ \\textnormal{TM Flow Rate [gpm]} = 0.178 (\\textnormal{TM reading in pulses/s}) + 0.390 $$\n",
    "$$ \\left[ \\frac{\\textnormal{L}}{\\textnormal{min}} \\right]= \\left[ \\frac{\\textnormal{Gal}}{\\textnormal{min}}\\right]\\left( \\frac{3.785 * \\textnormal{L}}{\\textnormal{Gal}} \\right)$$\n",
    "\n",
    "### Venturi Meter\n",
    "$$V_{\\textnormal{throat}} = \\frac{C_{V}}{\\sqrt{1- \\beta^4}} \\sqrt{\\frac{2\\Delta P}{\\rho}}$$ \n",
    "Where $ \\beta =$ Throat Diameter/Pipe Diameter, $\\Delta P$ = Pressure Drop, $\\rho =$ Mass Density of water, $C_{V}$ is an experimentally determined Venturi coefficient\n",
    "- Caviation\n",
    "\n",
    "### Orifice Meter\n",
    "$$V_{\\textnormal{throat}} = \\frac{C_{O}}{\\sqrt{1- \\beta^4}} \\sqrt{\\frac{2\\Delta P}{\\rho}}$$ \n",
    "- vena contracta\n",
    "\n",
    "### Pitot Tube\n",
    "$$V = \\sqrt{\\frac{2 \\Delta P}{\\rho}} $$\n",
    "\n",
    "### Elbow Meter\n",
    "$$V = C\\sqrt{\\frac{2 \\Delta P}{\\rho}} $$"
   ]
  },
  {
   "cell_type": "markdown",
   "id": "908bcbb2-266c-4ebe-995b-a5ed418e43ab",
   "metadata": {},
   "source": [
    "## Data Analysis"
   ]
  },
  {
   "cell_type": "markdown",
   "id": "0c2417bd-1ea0-427c-adb5-101f53b51aff",
   "metadata": {},
   "source": [
    "### Flow Rate Under Any Condition\n",
    "- When is TM (Turbine Meter) most accurate?\n",
    "- When is PDM (Positive-Displacement Meter) most accurate?\n",
    "- What algorithm will be used to determine observed flow rate?\n",
    "- What degree of uncertainty do you have with volume of fluid passing through and turbine frequency?"
   ]
  },
  {
   "cell_type": "markdown",
   "id": "d68023e9-34f8-4a1a-8df6-4fbd6e9b44b1",
   "metadata": {},
   "source": [
    "> A positive displacement (PD) flow meter is a type of flow meter that provides high accuracy (±0.1% of actual flow rate in some cases) and good repeatability (as high as 0.05% of reading)...\n",
    "> They are ideal for flow measurement of viscous fluids, such as oils, fuels, and solvents that are difficult for other types of flow meters to measure.\n",
    "\n",
    "> While PD flow meters are very robust, there are limitations to their usage. Firstly, they should not be used for fluids that contain large particles, unless these can be filtered out prior to the fluid entering the measuring chamber.\n",
    "> They are also not suitable for applications where large pockets of air are present within the fluid; however, air eliminators are available for these applications.\n",
    "\n",
    "> Another factor that requires consideration is the pressure drop caused by the PD flow meter; although these are minimal, they should also be allowed for in system calculations.\n",
    "\n",
    "<href> https://www.omega.com/en-us/resources/positive-displacement-flow-meter#</href>\n",
    "\n",
    "> Positive displacement flowmeters are very accurate and have high turndown.\n",
    "> They can be used in very viscous, dirty and corrosive fluids and essentially require no straight runs of pipe for fluid flow stream conditioning though pressure drop can be an issue.\n",
    "\n",
    "<href> https://en.wikipedia.org/wiki/Positive_displacement_meter#Advantages_and_considerations</href>\n",
    "\n",
    "Considering that there are not large particles (and presumably no large pockets of air either), we assume PD are valid over most ranges. It should be noted, however that there pressure drop across the positive-displacement meter should be taken into consideration.\n",
    "\n",
    "> Turbine meters should be sized so that the expected average flow is between 60% and 75% of the maximum capacity of the meter.\n",
    "> Flow velocities under 1 ft/sec can be insufficient, while velocities in excess of 10 ft/sec can result in excessive wear.\n",
    "> Most turbine meters are designed for maximum velocities of 30 ft/sec.\n",
    "\n",
    "> Viscosity affects the accuracy and linearity of turbine meters. It is therefore important to calibrate the meter for the specific fluid it is intended to measure.\n",
    "> Repeatability is generally not greatly affected by changes in viscosity, and turbine meters often are used to control the flow of viscous fluids.\n",
    "> Generally, turbine meters perform well if the Reynolds Number is greater than 4,000 and less than or equal to 20,000.\n",
    "\n",
    "<href> https://www.omega.com/en-us/resources/turbine-flow-meter </href>\n",
    "\n",
    "Since we are assuming our water is not very viscous, the only limitations appear during low flowrates. At low flow velocities, the rotational speed of the rotor decreases, and accurate measurement becomes challenging due to reduced rotor inertia and potential sensitivity to external factors like bearing friction."
   ]
  },
  {
   "cell_type": "markdown",
   "id": "73f115a3-49c5-4c85-a637-a6a8591c6f26",
   "metadata": {},
   "source": [
    "### Friction Factor\n",
    "- Calculate Friction Factor using flow rates and pressure drops\n",
    "- Plot friction factor vs Re on log-log\n",
    "- What does this tell you about the fluid-flow regime?\n",
    "- Compare with Blasius Equation as a func. of Re"
   ]
  },
  {
   "cell_type": "markdown",
   "id": "15cd9068-484a-405f-a64b-8505cf0251d3",
   "metadata": {},
   "source": [
    "What is the friction factor?\n",
    "- The friction factor is a dimensionless quantity used in the Darcy-Weisbach equation to describe friction losses in pipe flow. The Darcy-Weisbach equation is an empirical equation that relates the head loss due to friction to average velocity of fluid flow for an incompressible fluid.\n",
    "- To calculate friction factor, use the Colebrook equation\n",
    "\n",
    "Calculation of Friction Factor:\n",
    "- Friction factor is related to flowrate & pressure drop using Darcy-Weisback at <href>https://en.wikipedia.org/wiki/Darcy%E2%80%93Weisbach_equation</href>\n",
    "- Friction factor can be calculated with just Re using equations presented at <href> https://en.wikipedia.org/wiki/Darcy_friction_factor_formulae </href>\n",
    "- Approximated using Moody chart <href> https://en.wikipedia.org/wiki/Moody_chart </href>\n",
    "\n",
    "Parameters:\n",
    "- Diameter: 0.985 inch\n",
    "- Re: $ \\frac{\\rho u L}{\\mu} $ where $\\mu$ is dynamic viscosity of fluid\n",
    "- $\\mu$: $\\approx 0.01$ poise\n",
    "- Roughness, $\\varepsilon$: assume \"smooth pipe\" or $\\varepsilon \\approx 5*10^{-6}$ in according to <href>https://www.engineersedge.com/fluid_flow/pipe-roughness.htm</href>, <href>https://www.pipeflow.com/pipe-pressure-drop-calculations/pipe-roughness </href>\n",
    "\n",
    "Friction Factor and Flow Regime:\n",
    "- The friction factor depends on the flow regime. In laminar flows, the friction factor is only a function of the Reynolds number and is independent of the surface roughness of the pipe.\n",
    "- In fully turbulent flows, the friction factor depends on both the Reynolds number and relative roughness of the pipe wall."
   ]
  },
  {
   "cell_type": "markdown",
   "id": "6fc2e2fb-fa94-49c0-8fd9-256f76d197bc",
   "metadata": {},
   "source": [
    "### Venturi Coefficient\n",
    "- Determine Venturi coefficient by plotting $\\Delta P$ vs. $V^{2}$\n",
    "- Is plot linear, if not where does it deviate?\n",
    "- Intercept and slope of line of best fit\n",
    "- Literature value of Venturi coefficient?"
   ]
  },
  {
   "cell_type": "markdown",
   "id": "c7aca1c1-030d-45fe-b480-6b35017ae9a5",
   "metadata": {},
   "source": [
    "Literature value:\n",
    "- Typically in the range of 0.95 to 0.98 according to <href>https://learnmech.com/use-of-venturimeter-for-flow/</href> or 0.985 according to <href>https://www.thermopedia.com/content/1241/</href> or 0.95-0.99 for <href>https://iwaponline.com/ws/article/22/12/9023/91908/Optimization-of-convergent-angle-of-the-Venturi</href>"
   ]
  },
  {
   "cell_type": "markdown",
   "id": "7408b7ef-2c42-4324-a380-7bf54a38781f",
   "metadata": {},
   "source": [
    "### Pressure Recovery for Venturi Meter"
   ]
  },
  {
   "cell_type": "markdown",
   "id": "8a60bc1a-01aa-46b7-bb21-bd700fd8e45a",
   "metadata": {},
   "source": [
    "What is pressure recovery in a Venturi Meter? How is it calculated/measured?\n",
    "- Pressure Recovery refers to the increase in pressure that occurs downstream of the meter as the fluid velocity decreases and the x-sectional area of the pipe increases.\n",
    "- According to <href>https://automationforum.co/working-principle-of-venturi-flow-meter/</href>, <href>https://www.omega.com/en-us/resources/venturi-meter</href>, and <href>https://www.wermac.org/specials/venturiflowmeter.html</href>, the pressure recoveery is measured by computing the difference between the pressure at the throat of the venturi meter and the pressure downstream of the meter."
   ]
  },
  {
   "cell_type": "code",
   "execution_count": 7,
   "id": "549722a5",
   "metadata": {},
   "outputs": [
    {
     "data": {
      "text/plain": [
       "array([0.94736842, 1.12666667, 1.14021164, 1.23445596, 1.45954198,\n",
       "       1.18905047, 1.29489603, 1.11694809, 1.07749689, 1.06850117,\n",
       "       1.07164727])"
      ]
     },
     "metadata": {},
     "output_type": "display_data"
    },
    {
     "data": {
      "text/plain": [
       "<matplotlib.legend.Legend at 0x7f8c3a68b7c0>"
      ]
     },
     "execution_count": 7,
     "metadata": {},
     "output_type": "execute_result"
    },
    {
     "data": {
      "image/png": "[encoded data removed]",
      "text/plain": [
       "<Figure size 640x480 with 1 Axes>"
      ]
     },
     "metadata": {},
     "output_type": "display_data"
    }
   ],
   "source": [
    "# Q4\n",
    "TPD = np.array([-0.002, 0.038, 0.106, 0.181, 0.301, 0.442, 0.936, 0.935, 0.935, 0.936, 1.17])   # raw data of total pressure drop\n",
    "PD = np.array([0.036, 0.338, 0.862, 0.953, 0.956, 2.78, 4.11, 8.93, 13, 14.6, 17.5])  # raw data of pressure drop\n",
    "PR = PD - TPD    # Pressure Recovery calculated by pressure drop minusing total pressure drop\n",
    "PDM10 = np.array([2.040609137,4.294416244,5.512690355,8.741116751,11.39086294,13.82741117,16.75126904,18.39593909,21.59390863,21.89847716,25.85786802])\n",
    "constant_fraction_check = PD/PR\n",
    "display(fraction_check)\n",
    "\n",
    "plt.plot(PDM10,PD,label ='Pressure Drop')\n",
    "plt.plot(PDM10,PR,label = 'Pressure Recovery')\n",
    "plt.xlabel(\"PDM_10_sec(Hz)\")\n",
    "plt.ylabel(\"Pressure (psi)\")\n",
    "plt.legend()\n"
   ]
  },
  {
   "cell_type": "markdown",
   "id": "e01c19dd",
   "metadata": {},
   "source": [
    "Ans: The pressure recovery is not a constant fraction of the pressure drop according to constant_fraction_check. It is a function of throat to outlet diameter and flow velocity according to the Venturi Meter Equation listed on the FM lab manual."
   ]
  },
  {
   "cell_type": "markdown",
   "id": "5e11af21-bd5f-4ff4-b372-4f27beb5ea8c",
   "metadata": {},
   "source": [
    "### Orifice Coefficient\n",
    "- Determine Orifice coefficient; four unique plots for each orifice\n",
    "- Error associated graphically\n",
    "- Trends wrt to diameter?\n",
    "- Literature orifice coefficients?"
   ]
  },
  {
   "cell_type": "markdown",
   "id": "159cf4bf-0d53-4400-bd1e-b67636c32b0c",
   "metadata": {},
   "source": []
  },
  {
   "cell_type": "markdown",
   "id": "10b9330b-2acd-4dc4-86b7-47c130f40a5c",
   "metadata": {},
   "source": [
    "### Pressure Recovery For Each Orifice Size\n",
    "- Avg. pressure recovery and std. deviation\n",
    "- Trend & physical explanation\n",
    "- Orifice recovery vs. pressure recovery\n",
    "- Physical meaning for difference in pressure recovery"
   ]
  },
  {
   "cell_type": "markdown",
   "id": "7ea84be1-d24d-498e-89a3-7c20bb95fa1c",
   "metadata": {},
   "source": []
  },
  {
   "cell_type": "markdown",
   "id": "d61ade2b-4e2b-4b36-bed5-fbdc9e812afb",
   "metadata": {},
   "source": [
    "### Turbulent Flow Velocity Distribution using Pitot Tube"
   ]
  },
  {
   "cell_type": "markdown",
   "id": "2316ab05-6afa-4e5f-b876-f28ebe50b82f",
   "metadata": {},
   "source": []
  },
  {
   "cell_type": "markdown",
   "id": "de39d3aa-81be-4529-a523-9f3e76eb6ad2",
   "metadata": {},
   "source": [
    "### Power-law Approximation for Turbulent Velocity"
   ]
  },
  {
   "cell_type": "markdown",
   "id": "18a16aa9-6543-4784-bc44-ab6c4ec34b28",
   "metadata": {},
   "source": []
  },
  {
   "cell_type": "markdown",
   "id": "dee7f200-7e71-4f81-93ab-18fb6d7b07ec",
   "metadata": {},
   "source": [
    "### Calculated Flow Rate vs. Known Flow Rate"
   ]
  },
  {
   "cell_type": "markdown",
   "id": "1ecc9994-b9f5-4440-8175-a0fd1ab12562",
   "metadata": {},
   "source": []
  },
  {
   "cell_type": "markdown",
   "id": "0b7ab55c-3515-4e78-b400-665f32c44ab2",
   "metadata": {},
   "source": []
  },
  {
   "cell_type": "markdown",
   "id": "17482f06-b1ca-4720-bb0a-4a566a6c950e",
   "metadata": {},
   "source": [
    "## Side Questions & TODOs"
   ]
  },
  {
   "cell_type": "markdown",
   "id": "a95f4865-9655-458b-990a-20390d59a613",
   "metadata": {},
   "source": [
    "1. Can an Excel file be imported? Can different sheets on the same file be read? What is the best format?\n",
    "2. Create TM and PDM measurement calculations and see if they generally agree on flow rate, if they don't when do they disagree?\n",
    "3. What is the maximum capacity of the turbine meter?\n",
    "4. Given (2) and (3), finalize algorithm for \"Flow Rate Under Any Condition\"\n",
    "5. ~~Review Friction Factor section in text~~\n",
    "6. ~~Review Blasius equation~~\n",
    "7. ~~Find literature source of Venturi coefficient~~\n",
    "8. How can python be used to plot data, find the line of best fit, etc. (similar to excel)?\n",
    "9. How to represent graphical error (error bars) between line of best fit? "
   ]
  },
  {
   "cell_type": "markdown",
   "id": "1c9de48e-20e2-4eeb-b237-06eb5b963449",
   "metadata": {},
   "source": []
  },
  {
   "cell_type": "markdown",
   "id": "d071f7b5",
   "metadata": {},
   "source": []
  },
  {
   "cell_type": "markdown",
   "id": "a1c20d57",
   "metadata": {},
   "source": []
  }
 ],
 "metadata": {
  "kernelspec": {
   "display_name": "Python 3 (ipykernel)",
   "language": "python",
   "name": "python3"
  },
  "language_info": {
   "codemirror_mode": {
    "name": "ipython",
    "version": 3
   },
   "file_extension": ".py",
   "mimetype": "text/x-python",
   "name": "python",
   "nbconvert_exporter": "python",
   "pygments_lexer": "ipython3",
   "version": "3.9.13"
  }
 },
 "nbformat": 4,
 "nbformat_minor": 5
}
